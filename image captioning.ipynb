{
 "cells": [
  {
   "cell_type": "code",
   "execution_count": null,
   "id": "1f48590b-f59e-42e6-96d5-b70012d5ba68",
   "metadata": {},
   "outputs": [],
   "source": [
    "# task 3 - IMAGE CAPTIONING\n",
    "\n",
    "import tensorflow as tf\n",
    "from tensorflow.keras.applications.inception_v3 import InceptionV3, preprocess_input\n",
    "from tensorflow.keras.models import Model, Sequential\n",
    "from tensorflow.keras.layers import LSTM, Embedding, Dense, Dropout, Add\n",
    "import numpy as np\n",
    "import pickle\n",
    "from PIL import Image\n",
    "import matplotlib.pyplot as plt\n",
    "\n",
    "base_model = InceptionV3(weights='imagenet')\n",
    "model = Model(inputs=base_model.input, outputs=base_model.layers[-2].output)\n",
    "\n",
    "def extract_features(image_path):\n",
    "    img = Image.open(image_path).resize((299, 299))\n",
    "    img = np.array(img) / 255.0\n",
    "    img = np.expand_dims(img, axis=0)\n",
    "    img = preprocess_input(img)\n",
    "    features = model.predict(img)\n",
    "    return features\n",
    "\n",
    "with open(\"tokenizer.pkl\", \"rb\") as f:\n",
    "    tokenizer = pickle.load(f)\n",
    "\n",
    "max_length = 34  \n",
    "\n",
    "def generate_caption(model, image_path):\n",
    "    features = extract_features(image_path)\n",
    "    caption = \"startseq\"\n",
    "    \n",
    "    for _ in range(max_length):\n",
    "        sequence = tokenizer.texts_to_sequences([caption])[0]\n",
    "        sequence = tf.keras.preprocessing.sequence.pad_sequences([sequence], maxlen=max_length)\n",
    "        y_pred = model.predict([features, sequence], verbose=0)\n",
    "        word_index = np.argmax(y_pred)\n",
    "        word = tokenizer.index_word.get(word_index, '')\n",
    "        if word == 'endseq':\n",
    "            break\n",
    "        caption += ' ' + word\n",
    "    \n",
    "    return caption.replace(\"startseq\", \"\").replace(\"endseq\", \"\").strip()\n",
    "\n",
    "caption_model = tf.keras.models.load_model(\"caption_model.h5\")\n",
    "\n",
    "image_path = \"example.jpg\"\n",
    "predicted_caption = generate_caption(caption_model, image_path)\n",
    "\n",
    "plt.imshow(Image.open(image_path))\n",
    "plt.axis(\"off\")\n",
    "plt.title(predicted_caption)\n",
    "plt.show()"
   ]
  }
 ],
 "metadata": {
  "kernelspec": {
   "display_name": "Python [conda env:base] *",
   "language": "python",
   "name": "conda-base-py"
  },
  "language_info": {
   "codemirror_mode": {
    "name": "ipython",
    "version": 3
   },
   "file_extension": ".py",
   "mimetype": "text/x-python",
   "name": "python",
   "nbconvert_exporter": "python",
   "pygments_lexer": "ipython3",
   "version": "3.12.7"
  }
 },
 "nbformat": 4,
 "nbformat_minor": 5
}
